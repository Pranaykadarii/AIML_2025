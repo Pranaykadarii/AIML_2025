{
  "nbformat": 4,
  "nbformat_minor": 0,
  "metadata": {
    "colab": {
      "provenance": [],
      "authorship_tag": "ABX9TyM63J1ZyTFdixgrD/mFflwZ",
      "include_colab_link": true
    },
    "kernelspec": {
      "name": "python3",
      "display_name": "Python 3"
    },
    "language_info": {
      "name": "python"
    }
  },
  "cells": [
    {
      "cell_type": "markdown",
      "metadata": {
        "id": "view-in-github",
        "colab_type": "text"
      },
      "source": [
        "<a href=\"https://colab.research.google.com/github/Pranaykadarii/AIML_2025/blob/main/lab_03.ipynb\" target=\"_parent\"><img src=\"https://colab.research.google.com/assets/colab-badge.svg\" alt=\"Open In Colab\"/></a>"
      ]
    },
    {
      "cell_type": "code",
      "execution_count": 1,
      "metadata": {
        "id": "jS0Zx8AdMiUo"
      },
      "outputs": [],
      "source": [
        "from collections import namedtuple, Counter, defaultdict\n",
        "import random\n",
        "import math\n",
        "import functools\n",
        "cache = functools.lru_cache(10**6)"
      ]
    },
    {
      "cell_type": "code",
      "source": [
        "class Game:\n",
        "  def actions(self, state):\n",
        "    \"\"\"Return the collection of the allowable moves from the state\"\"\"\n",
        "    raise NotImplementedError"
      ],
      "metadata": {
        "id": "fxtXMfX0M5yI"
      },
      "execution_count": 2,
      "outputs": []
    },
    {
      "cell_type": "code",
      "source": [
        "class Game:\n",
        "  def actions(self, state):\n",
        "    \"\"\"Return the collection of the allowable moves from the state\"\"\"\n",
        "    raise NotImplementedError"
      ],
      "metadata": {
        "id": "Jcju3SviM8LV"
      },
      "execution_count": 3,
      "outputs": []
    },
    {
      "cell_type": "code",
      "source": [
        "def its_terminal(self, state):\n",
        "  \"\"\"Return True if this is a final state of a game.\"\"\"\n",
        "  return not self.actions(state)"
      ],
      "metadata": {
        "id": "7wAj6jlFNP8J"
      },
      "execution_count": 4,
      "outputs": []
    },
    {
      "cell_type": "code",
      "source": [
        "def utility(self, state, player):\n",
        "  \"\"\"Return the value of final state to a player.\"\"\"\n",
        "  raise NotImplementedError"
      ],
      "metadata": {
        "id": "bH2cd8Y1NUvJ"
      },
      "execution_count": 5,
      "outputs": []
    },
    {
      "cell_type": "code",
      "source": [
        "def play_game(game, statergies: dict, verbose=False):\n",
        "  state=game.initial\n",
        "  while not game.is_terminal(state):\n",
        "    player = state.to_move\n",
        "    move = statergies[player](game, state)\n",
        "    state = game.result(state, move)\n",
        "    if verbose:\n",
        "      print('player',player, 'move:', move)\n",
        "      print(state)\n",
        "      return state"
      ],
      "metadata": {
        "id": "e89SAPv6NZec"
      },
      "execution_count": 6,
      "outputs": []
    },
    {
      "cell_type": "markdown",
      "source": [
        "PART-02:Implement The Game Statergy Algorithms."
      ],
      "metadata": {
        "id": "J82oObQVNi8n"
      }
    },
    {
      "cell_type": "markdown",
      "source": [
        "1.Implement the Min-Max Search Algorithm\n",
        "\n",
        "\n",
        "\n"
      ],
      "metadata": {
        "id": "OKmEqoFeNkzm"
      }
    },
    {
      "cell_type": "code",
      "source": [
        "def minimax_search(game, state):\n",
        "  player = state.to_move\n",
        "  def max_value(state):\n",
        "    if game.its_terminal(state):\n",
        "      return game.utility(state, player), None\n",
        "    v, move = -infinity, None\n",
        "    for a in game.actions(state):\n",
        "      v2,_ = min_value(game.result(state, a))\n",
        "      if v2>v:\n",
        "        v, move = v2, a\n",
        "        return v, move"
      ],
      "metadata": {
        "id": "KHPYNxe9Np6E"
      },
      "execution_count": 7,
      "outputs": []
    },
    {
      "cell_type": "code",
      "source": [
        "def min_value(state):\n",
        "  if game.is_terminal(state):\n",
        "    return game.utility(state, player), None\n",
        "  v, move = +infinity, None\n",
        "  for a in game.actions(state):\n",
        "    v2,_ = max_value(game.result(state, a))\n",
        "    if v2 < v:\n",
        "      v, move = v2, a\n",
        "      return v, move\n",
        "  return max_value(state)\n",
        "infinity = math.inf"
      ],
      "metadata": {
        "id": "iCEZiFotN3bu"
      },
      "execution_count": 8,
      "outputs": []
    },
    {
      "cell_type": "markdown",
      "source": [
        "2.Alpha-Beta Search Algorithm\n",
        "\n",
        "\n",
        "\n"
      ],
      "metadata": {
        "id": "r49n-F56N9r7"
      }
    },
    {
      "cell_type": "code",
      "source": [
        "from re import A\n",
        "def alphabeta_search(game, state):\n",
        "  player = state.to_move\n",
        "  def max_value(state, alpha, beta):\n",
        "    if game.is_terminal(state):\n",
        "      return game.utility(state, player), None\n",
        "      v, move = -infinity, None\n",
        "      for a in game.actions(state):\n",
        "        v2, _ = min_value(game.result(state, a), alpha, beta)\n",
        "        if v2 > v:\n",
        "          v, move = v2, a\n",
        "          alpha = max(alpha, v)\n",
        "          if v >= beta:\n",
        "            return v, move\n",
        "            return v, move\n",
        "def min_value(state, alpha, beta):\n",
        "  if game.is_terminal(state):\n",
        "    return game.utility(state, player), None\n",
        "    v, move = +infinity, None\n",
        "    for a in game.actions(state):\n",
        "      v2, _ = max_value(game.result(state, a),alpha, beta)\n",
        "      if v2 < v:\n",
        "        v, move = v2, a\n",
        "        beta = min(beta, v)\n",
        "        if v <= alpha:\n",
        "          return v, move\n",
        "          return v, move\n",
        "          return max_value(state, -infinity, +infinity)\n"
      ],
      "metadata": {
        "id": "IO8c-Lj9OAgZ"
      },
      "execution_count": 9,
      "outputs": []
    },
    {
      "cell_type": "markdown",
      "source": [
        "PART-03:Implement The Game Statergy using TicTacToe"
      ],
      "metadata": {
        "id": "X_kbkZChOMg6"
      }
    },
    {
      "cell_type": "markdown",
      "source": [
        "1.Implement TicTocToe game using init, actions, result, is_terminal, utility, display constructors\n",
        "\n",
        "\n",
        "\n"
      ],
      "metadata": {
        "id": "q7D0O2McOODC"
      }
    },
    {
      "cell_type": "code",
      "source": [
        "class Board:\n",
        "  def __init__(self, width=8, height=8, to_move=None, **kwds):\n",
        "    self.__dict__.update(width=width, height=height, to_move=to_move, **kwds)\n",
        "    def new(self, changes: dict, **kwds)->'Board':\n",
        "      \"Given a dict of {(x, y): contents} changes, return a new Board with the changes.\"\n",
        "      board = Board(width=self.width, height=self.height, **kwds)\n",
        "      board.update(self)\n",
        "      board.update(changes)\n",
        "      return board\n",
        "      def __missing__(self, loc):\n",
        "        x, y = loc\n",
        "        if 0 <= x < self.width and 0 <= y < self.height:\n",
        "          return self.empty\n",
        "        else:\n",
        "          return self.off\n",
        "          def __hash__(self):\n",
        "            return hash(tuple(sorted(self.items()))) + hash(self.to_move)\n",
        "            def __repr__(self):\n",
        "              def row(y): return ' '.join(self[x, y] for x in range(self.width))\n",
        "              return '\\n'.join(map(row, range(self.height))) + '\\n'"
      ],
      "metadata": {
        "id": "9aEFGuneOUCV"
      },
      "execution_count": 10,
      "outputs": []
    },
    {
      "cell_type": "markdown",
      "source": [
        "3.Implement random_player(game,state) and player(search_algorithm)\n",
        "\n",
        "\n",
        "\n"
      ],
      "metadata": {
        "id": "Gc28wpINOada"
      }
    },
    {
      "cell_type": "code",
      "source": [
        "def random_player(game, state):\n",
        "  return random.choice(list(game.actions(state)))\n",
        "  def player(search_algorithm):\n",
        "    return lambda game, state: search_algorithm(game, state)[1]"
      ],
      "metadata": {
        "id": "rvGJPufwOiYM"
      },
      "execution_count": 11,
      "outputs": []
    }
  ]
}